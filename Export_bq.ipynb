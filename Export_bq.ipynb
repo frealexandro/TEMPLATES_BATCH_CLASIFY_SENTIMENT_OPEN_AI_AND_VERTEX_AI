{
 "cells": [
  {
   "cell_type": "raw",
   "id": "3ca57c56-3338-441a-8d57-54669eef434d",
   "metadata": {},
   "source": [
    "Dependencys"
   ]
  },
  {
   "cell_type": "code",
   "execution_count": 1,
   "id": "aa17b99c-36de-4be0-af12-fc83c1dccb60",
   "metadata": {},
   "outputs": [
    {
     "name": "stdout",
     "output_type": "stream",
     "text": [
      "Requirement already satisfied: openpyxl in ./.local/lib/python3.7/site-packages (3.0.10)\n",
      "Requirement already satisfied: et-xmlfile in ./.local/lib/python3.7/site-packages (from openpyxl) (1.1.0)\n",
      "Requirement already satisfied: requests in /opt/conda/lib/python3.7/site-packages (2.28.1)\n",
      "Requirement already satisfied: charset-normalizer<3,>=2 in /opt/conda/lib/python3.7/site-packages (from requests) (2.1.1)\n",
      "Requirement already satisfied: certifi>=2017.4.17 in /opt/conda/lib/python3.7/site-packages (from requests) (2022.9.24)\n",
      "Requirement already satisfied: urllib3<1.27,>=1.21.1 in /opt/conda/lib/python3.7/site-packages (from requests) (1.26.11)\n",
      "Requirement already satisfied: idna<4,>=2.5 in /opt/conda/lib/python3.7/site-packages (from requests) (3.4)\n",
      "Requirement already satisfied: pandas-gbq in ./.local/lib/python3.7/site-packages (0.18.1)\n",
      "Requirement already satisfied: pydata-google-auth>=1.4.0 in ./.local/lib/python3.7/site-packages (from pandas-gbq) (1.4.0)\n",
      "Requirement already satisfied: pyarrow>=3.0.0 in /opt/conda/lib/python3.7/site-packages (from pandas-gbq) (10.0.0)\n",
      "Requirement already satisfied: numpy>=1.16.6 in /opt/conda/lib/python3.7/site-packages (from pandas-gbq) (1.21.6)\n",
      "Requirement already satisfied: google-api-core<3.0.0dev,>=2.10.2 in ./.local/lib/python3.7/site-packages (from pandas-gbq) (2.11.0)\n",
      "Requirement already satisfied: db-dtypes<2.0.0,>=1.0.4 in ./.local/lib/python3.7/site-packages (from pandas-gbq) (1.0.5)\n",
      "Requirement already satisfied: google-cloud-bigquery!=2.4.*,<4.0.0dev,>=3.3.5 in ./.local/lib/python3.7/site-packages (from pandas-gbq) (3.4.1)\n",
      "Requirement already satisfied: google-cloud-bigquery-storage<3.0.0dev,>=2.16.2 in /opt/conda/lib/python3.7/site-packages (from pandas-gbq) (2.16.2)\n",
      "Requirement already satisfied: pandas>=1.1.4 in /opt/conda/lib/python3.7/site-packages (from pandas-gbq) (1.3.5)\n",
      "Requirement already satisfied: google-auth-oauthlib>=0.7.0 in /opt/conda/lib/python3.7/site-packages (from pandas-gbq) (0.7.0)\n",
      "Requirement already satisfied: google-auth>=2.13.0 in ./.local/lib/python3.7/site-packages (from pandas-gbq) (2.15.0)\n",
      "Requirement already satisfied: setuptools in /opt/conda/lib/python3.7/site-packages (from pandas-gbq) (59.8.0)\n",
      "Requirement already satisfied: packaging>=17.0 in /opt/conda/lib/python3.7/site-packages (from db-dtypes<2.0.0,>=1.0.4->pandas-gbq) (21.3)\n",
      "Requirement already satisfied: googleapis-common-protos<2.0dev,>=1.56.2 in /opt/conda/lib/python3.7/site-packages (from google-api-core<3.0.0dev,>=2.10.2->pandas-gbq) (1.56.4)\n",
      "Requirement already satisfied: requests<3.0.0dev,>=2.18.0 in /opt/conda/lib/python3.7/site-packages (from google-api-core<3.0.0dev,>=2.10.2->pandas-gbq) (2.28.1)\n",
      "Requirement already satisfied: protobuf!=3.20.0,!=3.20.1,!=4.21.0,!=4.21.1,!=4.21.2,!=4.21.3,!=4.21.4,!=4.21.5,<5.0.0dev,>=3.19.5 in /opt/conda/lib/python3.7/site-packages (from google-api-core<3.0.0dev,>=2.10.2->pandas-gbq) (4.21.8)\n",
      "Requirement already satisfied: pyasn1-modules>=0.2.1 in /opt/conda/lib/python3.7/site-packages (from google-auth>=2.13.0->pandas-gbq) (0.2.7)\n",
      "Requirement already satisfied: cachetools<6.0,>=2.0.0 in /opt/conda/lib/python3.7/site-packages (from google-auth>=2.13.0->pandas-gbq) (5.2.0)\n",
      "Requirement already satisfied: six>=1.9.0 in /opt/conda/lib/python3.7/site-packages (from google-auth>=2.13.0->pandas-gbq) (1.16.0)\n",
      "Requirement already satisfied: rsa<5,>=3.1.4 in /opt/conda/lib/python3.7/site-packages (from google-auth>=2.13.0->pandas-gbq) (4.9)\n",
      "Requirement already satisfied: requests-oauthlib>=0.7.0 in /opt/conda/lib/python3.7/site-packages (from google-auth-oauthlib>=0.7.0->pandas-gbq) (1.3.1)\n",
      "Requirement already satisfied: proto-plus<2.0.0dev,>=1.15.0 in ./.local/lib/python3.7/site-packages (from google-cloud-bigquery!=2.4.*,<4.0.0dev,>=3.3.5->pandas-gbq) (1.22.1)\n",
      "Requirement already satisfied: grpcio<2.0dev,>=1.47.0 in /opt/conda/lib/python3.7/site-packages (from google-cloud-bigquery!=2.4.*,<4.0.0dev,>=3.3.5->pandas-gbq) (1.50.0)\n",
      "Requirement already satisfied: google-cloud-core<3.0.0dev,>=1.4.1 in /opt/conda/lib/python3.7/site-packages (from google-cloud-bigquery!=2.4.*,<4.0.0dev,>=3.3.5->pandas-gbq) (2.3.2)\n",
      "Requirement already satisfied: python-dateutil<3.0dev,>=2.7.2 in /opt/conda/lib/python3.7/site-packages (from google-cloud-bigquery!=2.4.*,<4.0.0dev,>=3.3.5->pandas-gbq) (2.8.2)\n",
      "Requirement already satisfied: google-resumable-media<3.0dev,>=0.6.0 in /opt/conda/lib/python3.7/site-packages (from google-cloud-bigquery!=2.4.*,<4.0.0dev,>=3.3.5->pandas-gbq) (2.4.0)\n",
      "Requirement already satisfied: pytz>=2017.3 in /opt/conda/lib/python3.7/site-packages (from pandas>=1.1.4->pandas-gbq) (2022.5)\n",
      "Requirement already satisfied: grpcio-status<2.0dev,>=1.33.2 in /opt/conda/lib/python3.7/site-packages (from google-api-core<3.0.0dev,>=2.10.2->pandas-gbq) (1.48.2)\n",
      "Requirement already satisfied: google-crc32c<2.0dev,>=1.0 in /opt/conda/lib/python3.7/site-packages (from google-resumable-media<3.0dev,>=0.6.0->google-cloud-bigquery!=2.4.*,<4.0.0dev,>=3.3.5->pandas-gbq) (1.1.2)\n",
      "Requirement already satisfied: pyparsing!=3.0.5,>=2.0.2 in /opt/conda/lib/python3.7/site-packages (from packaging>=17.0->db-dtypes<2.0.0,>=1.0.4->pandas-gbq) (3.0.9)\n",
      "Requirement already satisfied: pyasn1<0.5.0,>=0.4.6 in /opt/conda/lib/python3.7/site-packages (from pyasn1-modules>=0.2.1->google-auth>=2.13.0->pandas-gbq) (0.4.8)\n",
      "Requirement already satisfied: charset-normalizer<3,>=2 in /opt/conda/lib/python3.7/site-packages (from requests<3.0.0dev,>=2.18.0->google-api-core<3.0.0dev,>=2.10.2->pandas-gbq) (2.1.1)\n",
      "Requirement already satisfied: certifi>=2017.4.17 in /opt/conda/lib/python3.7/site-packages (from requests<3.0.0dev,>=2.18.0->google-api-core<3.0.0dev,>=2.10.2->pandas-gbq) (2022.9.24)\n",
      "Requirement already satisfied: urllib3<1.27,>=1.21.1 in /opt/conda/lib/python3.7/site-packages (from requests<3.0.0dev,>=2.18.0->google-api-core<3.0.0dev,>=2.10.2->pandas-gbq) (1.26.11)\n",
      "Requirement already satisfied: idna<4,>=2.5 in /opt/conda/lib/python3.7/site-packages (from requests<3.0.0dev,>=2.18.0->google-api-core<3.0.0dev,>=2.10.2->pandas-gbq) (3.4)\n",
      "Requirement already satisfied: oauthlib>=3.0.0 in /opt/conda/lib/python3.7/site-packages (from requests-oauthlib>=0.7.0->google-auth-oauthlib>=0.7.0->pandas-gbq) (3.2.2)\n",
      "Requirement already satisfied: cffi>=1.0.0 in /opt/conda/lib/python3.7/site-packages (from google-crc32c<2.0dev,>=1.0->google-resumable-media<3.0dev,>=0.6.0->google-cloud-bigquery!=2.4.*,<4.0.0dev,>=3.3.5->pandas-gbq) (1.15.1)\n",
      "Requirement already satisfied: pycparser in /opt/conda/lib/python3.7/site-packages (from cffi>=1.0.0->google-crc32c<2.0dev,>=1.0->google-resumable-media<3.0dev,>=0.6.0->google-cloud-bigquery!=2.4.*,<4.0.0dev,>=3.3.5->pandas-gbq) (2.21)\n"
     ]
    }
   ],
   "source": [
    "!pip install openpyxl\n",
    "!pip install requests\n",
    "!pip install pandas-gbq --user"
   ]
  },
  {
   "cell_type": "markdown",
   "id": "fc7ed90a-a8b3-4ee4-a4be-0f6d1ca2be57",
   "metadata": {},
   "source": [
    "Inputs"
   ]
  },
  {
   "cell_type": "code",
   "execution_count": 2,
   "id": "fb520cfc-3f77-4c36-8611-7ebf4f0cf0aa",
   "metadata": {},
   "outputs": [
    {
     "data": {
      "text/plain": [
       "'datalake-analytics-339922'"
      ]
     },
     "execution_count": 2,
     "metadata": {},
     "output_type": "execute_result"
    }
   ],
   "source": [
    "project = !gcloud config get-value project\n",
    "PROJECT_ID = project[0]\n",
    "PROJECT_ID"
   ]
  },
  {
   "cell_type": "markdown",
   "id": "0bb5c3b9-2bd7-410d-8773-09863a986765",
   "metadata": {},
   "source": [
    "packages"
   ]
  },
  {
   "cell_type": "code",
   "execution_count": 3,
   "id": "197d1d9f-4ec3-40fd-8a4c-70f6b4ff1f9e",
   "metadata": {},
   "outputs": [
    {
     "name": "stdout",
     "output_type": "stream",
     "text": [
      "packages is: ok\n"
     ]
    }
   ],
   "source": [
    "import requests\n",
    "import os\n",
    "from google.cloud import bigquery\n",
    "import pandas as pd\n",
    "import numpy as np\n",
    "import re\n",
    "print(\"packages is: ok\")"
   ]
  },
  {
   "cell_type": "markdown",
   "id": "d6ed86bc-857a-4042-8a57-7f86c74adfd4",
   "metadata": {},
   "source": [
    "clients"
   ]
  },
  {
   "cell_type": "code",
   "execution_count": 4,
   "id": "5305c31b-2a53-4c40-89d9-034db2dc2a83",
   "metadata": {},
   "outputs": [
    {
     "name": "stdout",
     "output_type": "stream",
     "text": [
      "client is: ok\n"
     ]
    }
   ],
   "source": [
    "bq = bigquery.Client(project = PROJECT_ID)\n",
    "print(\"client is: ok\")"
   ]
  },
  {
   "cell_type": "code",
   "execution_count": 35,
   "id": "553dd8f1-d25b-4961-bb18-0365787d7369",
   "metadata": {},
   "outputs": [
    {
     "name": "stdout",
     "output_type": "stream",
     "text": [
      "df_bq_all is: ok\n",
      "(1365, 28)\n"
     ]
    }
   ],
   "source": [
    "query = f\"\"\"\n",
    "SELECT *\n",
    "FROM `datalake-analytics-339922.UniDataSentiment.sss_onsite_gpt`\n",
    "\"\"\"\n",
    "#use the on-site\n",
    "#datalake-analytics-339922.UniDataSentiment.sss_onsite_gpt\n",
    "df_bq_all = bq.query(query = query).to_dataframe()\n",
    "print(\"df_bq_all is: ok\")\n",
    "len(df_bq_all)\n",
    "print(df_bq_all.shape)\n",
    "#df_bq_all.to_excel('data/data_on_sentiments_28_colums.xlsx',index=False)\n",
    "#print('data is ready')"
   ]
  },
  {
   "cell_type": "markdown",
   "id": "03862799-093d-4a1e-83b8-ecc8cb4305d0",
   "metadata": {},
   "source": [
    "get names of colums of dataframe of bigquery"
   ]
  },
  {
   "cell_type": "code",
   "execution_count": 31,
   "id": "c9b932b8-72e6-48a5-8f35-58b25e2b5853",
   "metadata": {},
   "outputs": [
    {
     "data": {
      "text/plain": [
       "28"
      ]
     },
     "execution_count": 31,
     "metadata": {},
     "output_type": "execute_result"
    }
   ],
   "source": [
    "colum_list = df_bq_all.columns.tolist()\n",
    "len(colum_list)"
   ]
  },
  {
   "cell_type": "markdown",
   "id": "3919da6a-22dd-4bca-8c2a-a4373d17d12c",
   "metadata": {},
   "source": [
    "MERGE ORIGINAL"
   ]
  },
  {
   "cell_type": "code",
   "execution_count": 32,
   "id": "845f0c91-72ee-46a3-b816-0f1472edc51d",
   "metadata": {},
   "outputs": [
    {
     "name": "stdout",
     "output_type": "stream",
     "text": [
      "(117, 28)\n"
     ]
    },
    {
     "data": {
      "text/html": [
       "<div>\n",
       "<style scoped>\n",
       "    .dataframe tbody tr th:only-of-type {\n",
       "        vertical-align: middle;\n",
       "    }\n",
       "\n",
       "    .dataframe tbody tr th {\n",
       "        vertical-align: top;\n",
       "    }\n",
       "\n",
       "    .dataframe thead th {\n",
       "        text-align: right;\n",
       "    }\n",
       "</style>\n",
       "<table border=\"1\" class=\"dataframe\">\n",
       "  <thead>\n",
       "    <tr style=\"text-align: right;\">\n",
       "      <th></th>\n",
       "      <th>Id_Model</th>\n",
       "      <th>User</th>\n",
       "      <th>Message_x_x_x_x_x_x_x</th>\n",
       "      <th>Brands</th>\n",
       "      <th>Subsidiary</th>\n",
       "      <th>Sentiment_H</th>\n",
       "      <th>Topics_1_x</th>\n",
       "      <th>Topics_2_x</th>\n",
       "      <th>Topics_3_x</th>\n",
       "      <th>Locations</th>\n",
       "      <th>...</th>\n",
       "      <th>First_Admin_Comment_x</th>\n",
       "      <th>Link</th>\n",
       "      <th>Sentiment_x</th>\n",
       "      <th>Clasification_M_x</th>\n",
       "      <th>Clasify_IA_1</th>\n",
       "      <th>Clasify_IA_2</th>\n",
       "      <th>Clasify_IA_3</th>\n",
       "      <th>Clasify_IA_4</th>\n",
       "      <th>Clasify_IA_5</th>\n",
       "      <th>Clasify_IA_6</th>\n",
       "    </tr>\n",
       "  </thead>\n",
       "  <tbody>\n",
       "    <tr>\n",
       "      <th>0</th>\n",
       "      <td>model23020711233200000000002escv5f\"</td>\n",
       "      <td>Manuelo León</td>\n",
       "      <td>Que nos permitan hacer cambios de medico prima...</td>\n",
       "      <td>Triple-S Advantage</td>\n",
       "      <td>ADVANTAGE</td>\n",
       "      <td>Negative</td>\n",
       "      <td>Planes y servicios</td>\n",
       "      <td>Servicio al cliente</td>\n",
       "      <td>NaN</td>\n",
       "      <td>NaN</td>\n",
       "      <td>...</td>\n",
       "      <td>NaN</td>\n",
       "      <td>https://www.facebook.com/581325368651341/posts...</td>\n",
       "      <td>0</td>\n",
       "      <td>Planes y servicios</td>\n",
       "      <td>Rabia</td>\n",
       "      <td>Ninguno</td>\n",
       "      <td>gestiones, Internet, cambios</td>\n",
       "      <td>Quejas</td>\n",
       "      <td>Ninguno</td>\n",
       "      <td>Ninguno</td>\n",
       "    </tr>\n",
       "    <tr>\n",
       "      <th>1</th>\n",
       "      <td>model23020711233200000000003escv5f\"</td>\n",
       "      <td>Cira Figueroa</td>\n",
       "      <td>Gracias a Triple-S por la oportunidad de parti...</td>\n",
       "      <td>Triple-S Advantage</td>\n",
       "      <td>ADVANTAGE</td>\n",
       "      <td>Positive</td>\n",
       "      <td>Institucional</td>\n",
       "      <td>Responsabilidad social</td>\n",
       "      <td>NaN</td>\n",
       "      <td>NaN</td>\n",
       "      <td>...</td>\n",
       "      <td>NaN</td>\n",
       "      <td>https://www.facebook.com/581325368651341/posts...</td>\n",
       "      <td>2</td>\n",
       "      <td>Planes y servicios</td>\n",
       "      <td>Alegría</td>\n",
       "      <td>Ninguno</td>\n",
       "      <td>-Triple-S-Damaris Pérez-Nitza Pérez</td>\n",
       "      <td>Educación</td>\n",
       "      <td>Satisfacción</td>\n",
       "      <td>Ninguno</td>\n",
       "    </tr>\n",
       "    <tr>\n",
       "      <th>2</th>\n",
       "      <td>model23020711233200000000004escv5f\"</td>\n",
       "      <td>Iris Rosado</td>\n",
       "      <td>Como puedo saber el balance de mis otc</td>\n",
       "      <td>Triple-S Advantage</td>\n",
       "      <td>ADVANTAGE</td>\n",
       "      <td>Neutral</td>\n",
       "      <td>Planes y servicios</td>\n",
       "      <td>Medicamentos OTC</td>\n",
       "      <td>Balances</td>\n",
       "      <td>NaN</td>\n",
       "      <td>...</td>\n",
       "      <td>NaN</td>\n",
       "      <td>https://www.facebook.com/581325368651341/posts...</td>\n",
       "      <td>1</td>\n",
       "      <td>Planes y servicios</td>\n",
       "      <td>Ninguno</td>\n",
       "      <td>Ninguno</td>\n",
       "      <td>There are a number of ways brands can use digi...</td>\n",
       "      <td>Finanzas</td>\n",
       "      <td>Ninguno</td>\n",
       "      <td>Ninguno</td>\n",
       "    </tr>\n",
       "    <tr>\n",
       "      <th>3</th>\n",
       "      <td>model23020711233200000000005escv5f\"</td>\n",
       "      <td>José Morale</td>\n",
       "      <td>La prediabetes es reversible?</td>\n",
       "      <td>Triple-S Advantage</td>\n",
       "      <td>ADVANTAGE</td>\n",
       "      <td>Neutral</td>\n",
       "      <td>Institucional</td>\n",
       "      <td>Responsabilidad social</td>\n",
       "      <td>NaN</td>\n",
       "      <td>NaN</td>\n",
       "      <td>...</td>\n",
       "      <td>NaN</td>\n",
       "      <td>https://www.facebook.com/581325368651341/posts...</td>\n",
       "      <td>1</td>\n",
       "      <td>Comunicación oficial</td>\n",
       "      <td>Ninguno</td>\n",
       "      <td>Ninguno</td>\n",
       "      <td>reversible, prediabetes, importancia</td>\n",
       "      <td>Salud</td>\n",
       "      <td>Curiosidad</td>\n",
       "      <td>Ninguno</td>\n",
       "    </tr>\n",
       "    <tr>\n",
       "      <th>4</th>\n",
       "      <td>model23020711233200000000006escv5f\"</td>\n",
       "      <td>Fernando Matias</td>\n",
       "      <td>Esa artista, un abrazo 🤗</td>\n",
       "      <td>Triple-S Advantage</td>\n",
       "      <td>ADVANTAGE</td>\n",
       "      <td>Positive</td>\n",
       "      <td>Institucional</td>\n",
       "      <td>Responsabilidad social</td>\n",
       "      <td>NaN</td>\n",
       "      <td>NaN</td>\n",
       "      <td>...</td>\n",
       "      <td>NaN</td>\n",
       "      <td>https://www.facebook.com/581325368651341/posts...</td>\n",
       "      <td>2</td>\n",
       "      <td>Institucional</td>\n",
       "      <td>Alegría</td>\n",
       "      <td>Ninguno</td>\n",
       "      <td>Artista, abrazo, esa.</td>\n",
       "      <td>Cultura</td>\n",
       "      <td>Alegría</td>\n",
       "      <td>Ninguno</td>\n",
       "    </tr>\n",
       "    <tr>\n",
       "      <th>...</th>\n",
       "      <td>...</td>\n",
       "      <td>...</td>\n",
       "      <td>...</td>\n",
       "      <td>...</td>\n",
       "      <td>...</td>\n",
       "      <td>...</td>\n",
       "      <td>...</td>\n",
       "      <td>...</td>\n",
       "      <td>...</td>\n",
       "      <td>...</td>\n",
       "      <td>...</td>\n",
       "      <td>...</td>\n",
       "      <td>...</td>\n",
       "      <td>...</td>\n",
       "      <td>...</td>\n",
       "      <td>...</td>\n",
       "      <td>...</td>\n",
       "      <td>...</td>\n",
       "      <td>...</td>\n",
       "      <td>...</td>\n",
       "      <td>...</td>\n",
       "    </tr>\n",
       "    <tr>\n",
       "      <th>112</th>\n",
       "      <td>model23020711233200000000114escv5f\"</td>\n",
       "      <td>Roberto Rivera</td>\n",
       "      <td>El.mani.te.puede.producir\\nChuras.y.o..estreni...</td>\n",
       "      <td>Clínicas Salus</td>\n",
       "      <td>SALUS</td>\n",
       "      <td>Neutral</td>\n",
       "      <td>Comunicación oficial</td>\n",
       "      <td>Educativos</td>\n",
       "      <td>NaN</td>\n",
       "      <td>NaN</td>\n",
       "      <td>...</td>\n",
       "      <td>NaN</td>\n",
       "      <td>https://www.facebook.com/1025905351405345/post...</td>\n",
       "      <td>2</td>\n",
       "      <td>Institucional</td>\n",
       "      <td>Rabia</td>\n",
       "      <td>Ninguno</td>\n",
       "      <td>churas, estrenimiento, maní</td>\n",
       "      <td>Salud</td>\n",
       "      <td>Ninguno</td>\n",
       "      <td>Ninguno</td>\n",
       "    </tr>\n",
       "    <tr>\n",
       "      <th>113</th>\n",
       "      <td>model23020711233200000000115escv5f\"</td>\n",
       "      <td>Alejandro Pagan</td>\n",
       "      <td>Ana Fuentes  No, se pero yo consumo mucho la m...</td>\n",
       "      <td>Clínicas Salus</td>\n",
       "      <td>SALUS</td>\n",
       "      <td>Neutral</td>\n",
       "      <td>Comunicación oficial</td>\n",
       "      <td>Educativos</td>\n",
       "      <td>NaN</td>\n",
       "      <td>NaN</td>\n",
       "      <td>...</td>\n",
       "      <td>NaN</td>\n",
       "      <td>https://www.facebook.com/1025905351405345/post...</td>\n",
       "      <td>1</td>\n",
       "      <td>Planes y servicios</td>\n",
       "      <td>Alegría</td>\n",
       "      <td>Neutro</td>\n",
       "      <td>, peanut, butter.Creamy, peanut, butter</td>\n",
       "      <td>Cobertura</td>\n",
       "      <td>Satisfacción</td>\n",
       "      <td>Coches y Vehículos</td>\n",
       "    </tr>\n",
       "    <tr>\n",
       "      <th>114</th>\n",
       "      <td>model23020711233200000000116escv5f\"</td>\n",
       "      <td>Maria Oliver</td>\n",
       "      <td>Pero es muy saludable si lo ligas  con jalea d...</td>\n",
       "      <td>Clínicas Salus</td>\n",
       "      <td>SALUS</td>\n",
       "      <td>Neutral</td>\n",
       "      <td>Comunicación oficial</td>\n",
       "      <td>Educativos</td>\n",
       "      <td>NaN</td>\n",
       "      <td>NaN</td>\n",
       "      <td>...</td>\n",
       "      <td>NaN</td>\n",
       "      <td>https://www.facebook.com/1025905351405345/post...</td>\n",
       "      <td>0</td>\n",
       "      <td>Comunicación oficial</td>\n",
       "      <td>Ninguno</td>\n",
       "      <td>Neutro</td>\n",
       "      <td>saludable, jalea, uva</td>\n",
       "      <td>Salud</td>\n",
       "      <td>Satisfacción</td>\n",
       "      <td>Coches y Vehículos</td>\n",
       "    </tr>\n",
       "    <tr>\n",
       "      <th>115</th>\n",
       "      <td>model23020711233200000000117escv5f\"</td>\n",
       "      <td>Ramona Baez</td>\n",
       "      <td>El maní  es bueno y saludable,  para los que  ...</td>\n",
       "      <td>Clínicas Salus</td>\n",
       "      <td>SALUS</td>\n",
       "      <td>Neutral</td>\n",
       "      <td>Comunicación oficial</td>\n",
       "      <td>Educativos</td>\n",
       "      <td>NaN</td>\n",
       "      <td>NaN</td>\n",
       "      <td>...</td>\n",
       "      <td>NaN</td>\n",
       "      <td>https://www.facebook.com/1025905351405345/post...</td>\n",
       "      <td>0</td>\n",
       "      <td>Planes y servicios</td>\n",
       "      <td>Ninguno</td>\n",
       "      <td>Ninguno</td>\n",
       "      <td>Maní, Alergia, Saludable</td>\n",
       "      <td>Salud</td>\n",
       "      <td>Ninguno</td>\n",
       "      <td>Ninguno</td>\n",
       "    </tr>\n",
       "    <tr>\n",
       "      <th>116</th>\n",
       "      <td>model23020711233200000000118escv5f\"</td>\n",
       "      <td>Lizzette Semidey</td>\n",
       "      <td>Yo a la almendras tan ricas 😭</td>\n",
       "      <td>Clínicas Salus</td>\n",
       "      <td>SALUS</td>\n",
       "      <td>Neutral</td>\n",
       "      <td>Comunicación oficial</td>\n",
       "      <td>Educativos</td>\n",
       "      <td>NaN</td>\n",
       "      <td>NaN</td>\n",
       "      <td>...</td>\n",
       "      <td>NaN</td>\n",
       "      <td>https://www.facebook.com/1025905351405345/post...</td>\n",
       "      <td>2</td>\n",
       "      <td>Comunicación oficial</td>\n",
       "      <td>Tristeza</td>\n",
       "      <td>Ninguno</td>\n",
       "      <td>almendras, tan, ricas</td>\n",
       "      <td>Cultura</td>\n",
       "      <td>Tristeza</td>\n",
       "      <td>Ninguno</td>\n",
       "    </tr>\n",
       "  </tbody>\n",
       "</table>\n",
       "<p>117 rows × 28 columns</p>\n",
       "</div>"
      ],
      "text/plain": [
       "                                Id_Model              User  \\\n",
       "0    model23020711233200000000002escv5f\"      Manuelo León   \n",
       "1    model23020711233200000000003escv5f\"     Cira Figueroa   \n",
       "2    model23020711233200000000004escv5f\"       Iris Rosado   \n",
       "3    model23020711233200000000005escv5f\"       José Morale   \n",
       "4    model23020711233200000000006escv5f\"   Fernando Matias   \n",
       "..                                   ...               ...   \n",
       "112  model23020711233200000000114escv5f\"    Roberto Rivera   \n",
       "113  model23020711233200000000115escv5f\"   Alejandro Pagan   \n",
       "114  model23020711233200000000116escv5f\"      Maria Oliver   \n",
       "115  model23020711233200000000117escv5f\"       Ramona Baez   \n",
       "116  model23020711233200000000118escv5f\"  Lizzette Semidey   \n",
       "\n",
       "                                 Message_x_x_x_x_x_x_x              Brands  \\\n",
       "0    Que nos permitan hacer cambios de medico prima...  Triple-S Advantage   \n",
       "1    Gracias a Triple-S por la oportunidad de parti...  Triple-S Advantage   \n",
       "2               Como puedo saber el balance de mis otc  Triple-S Advantage   \n",
       "3                        La prediabetes es reversible?  Triple-S Advantage   \n",
       "4                             Esa artista, un abrazo 🤗  Triple-S Advantage   \n",
       "..                                                 ...                 ...   \n",
       "112  El.mani.te.puede.producir\\nChuras.y.o..estreni...      Clínicas Salus   \n",
       "113  Ana Fuentes  No, se pero yo consumo mucho la m...      Clínicas Salus   \n",
       "114  Pero es muy saludable si lo ligas  con jalea d...      Clínicas Salus   \n",
       "115  El maní  es bueno y saludable,  para los que  ...      Clínicas Salus   \n",
       "116                      Yo a la almendras tan ricas 😭      Clínicas Salus   \n",
       "\n",
       "    Subsidiary Sentiment_H            Topics_1_x              Topics_2_x  \\\n",
       "0    ADVANTAGE    Negative    Planes y servicios     Servicio al cliente   \n",
       "1    ADVANTAGE    Positive         Institucional  Responsabilidad social   \n",
       "2    ADVANTAGE     Neutral    Planes y servicios        Medicamentos OTC   \n",
       "3    ADVANTAGE     Neutral         Institucional  Responsabilidad social   \n",
       "4    ADVANTAGE    Positive         Institucional  Responsabilidad social   \n",
       "..         ...         ...                   ...                     ...   \n",
       "112      SALUS     Neutral  Comunicación oficial              Educativos   \n",
       "113      SALUS     Neutral  Comunicación oficial              Educativos   \n",
       "114      SALUS     Neutral  Comunicación oficial              Educativos   \n",
       "115      SALUS     Neutral  Comunicación oficial              Educativos   \n",
       "116      SALUS     Neutral  Comunicación oficial              Educativos   \n",
       "\n",
       "    Topics_3_x  Locations  ... First_Admin_Comment_x  \\\n",
       "0          NaN        NaN  ...                   NaN   \n",
       "1          NaN        NaN  ...                   NaN   \n",
       "2     Balances        NaN  ...                   NaN   \n",
       "3          NaN        NaN  ...                   NaN   \n",
       "4          NaN        NaN  ...                   NaN   \n",
       "..         ...        ...  ...                   ...   \n",
       "112        NaN        NaN  ...                   NaN   \n",
       "113        NaN        NaN  ...                   NaN   \n",
       "114        NaN        NaN  ...                   NaN   \n",
       "115        NaN        NaN  ...                   NaN   \n",
       "116        NaN        NaN  ...                   NaN   \n",
       "\n",
       "                                                  Link Sentiment_x  \\\n",
       "0    https://www.facebook.com/581325368651341/posts...           0   \n",
       "1    https://www.facebook.com/581325368651341/posts...           2   \n",
       "2    https://www.facebook.com/581325368651341/posts...           1   \n",
       "3    https://www.facebook.com/581325368651341/posts...           1   \n",
       "4    https://www.facebook.com/581325368651341/posts...           2   \n",
       "..                                                 ...         ...   \n",
       "112  https://www.facebook.com/1025905351405345/post...           2   \n",
       "113  https://www.facebook.com/1025905351405345/post...           1   \n",
       "114  https://www.facebook.com/1025905351405345/post...           0   \n",
       "115  https://www.facebook.com/1025905351405345/post...           0   \n",
       "116  https://www.facebook.com/1025905351405345/post...           2   \n",
       "\n",
       "        Clasification_M_x Clasify_IA_1  Clasify_IA_2  \\\n",
       "0      Planes y servicios        Rabia       Ninguno   \n",
       "1      Planes y servicios      Alegría       Ninguno   \n",
       "2      Planes y servicios      Ninguno       Ninguno   \n",
       "3    Comunicación oficial      Ninguno       Ninguno   \n",
       "4           Institucional      Alegría       Ninguno   \n",
       "..                    ...          ...           ...   \n",
       "112         Institucional        Rabia       Ninguno   \n",
       "113    Planes y servicios      Alegría        Neutro   \n",
       "114  Comunicación oficial      Ninguno        Neutro   \n",
       "115    Planes y servicios      Ninguno       Ninguno   \n",
       "116  Comunicación oficial     Tristeza       Ninguno   \n",
       "\n",
       "                                          Clasify_IA_3 Clasify_IA_4  \\\n",
       "0                         gestiones, Internet, cambios       Quejas   \n",
       "1                  -Triple-S-Damaris Pérez-Nitza Pérez    Educación   \n",
       "2    There are a number of ways brands can use digi...     Finanzas   \n",
       "3                 reversible, prediabetes, importancia        Salud   \n",
       "4                                Artista, abrazo, esa.      Cultura   \n",
       "..                                                 ...          ...   \n",
       "112                        churas, estrenimiento, maní        Salud   \n",
       "113            , peanut, butter.Creamy, peanut, butter    Cobertura   \n",
       "114                              saludable, jalea, uva        Salud   \n",
       "115                           Maní, Alergia, Saludable        Salud   \n",
       "116                              almendras, tan, ricas      Cultura   \n",
       "\n",
       "     Clasify_IA_5        Clasify_IA_6  \n",
       "0         Ninguno             Ninguno  \n",
       "1    Satisfacción             Ninguno  \n",
       "2         Ninguno             Ninguno  \n",
       "3      Curiosidad             Ninguno  \n",
       "4         Alegría             Ninguno  \n",
       "..            ...                 ...  \n",
       "112       Ninguno             Ninguno  \n",
       "113  Satisfacción  Coches y Vehículos  \n",
       "114  Satisfacción  Coches y Vehículos  \n",
       "115       Ninguno             Ninguno  \n",
       "116      Tristeza             Ninguno  \n",
       "\n",
       "[117 rows x 28 columns]"
      ]
     },
     "execution_count": 32,
     "metadata": {},
     "output_type": "execute_result"
    }
   ],
   "source": [
    "new_df_to_bq = pd.read_excel('data/data  1-5 feb on - site.xlsx')\n",
    "print(new_df_to_bq.shape)\n",
    "new_df_to_bq.columns = colum_list\n",
    "new_df_to_bq"
   ]
  },
  {
   "cell_type": "code",
   "execution_count": 33,
   "id": "8e3c6053-dfa5-4c9e-bc9c-03710a574c9a",
   "metadata": {},
   "outputs": [
    {
     "name": "stdout",
     "output_type": "stream",
     "text": [
      "source data : ok\n"
     ]
    }
   ],
   "source": [
    "table_name = 'datalake-analytics-339922.UniDataSentiment.sss_onsite_gpt'\n",
    "print(\"source data : ok\")\n"
   ]
  },
  {
   "cell_type": "markdown",
   "id": "cc255736-6d4e-4f1f-8acb-75476b97121d",
   "metadata": {},
   "source": [
    "Create new table on bigquery Note: if bigquery already exist don't use this part of code justo upload the data"
   ]
  },
  {
   "cell_type": "markdown",
   "id": "8a264c28-93b9-4657-b395-8254da9fdf8c",
   "metadata": {},
   "source": [
    "We create a schema"
   ]
  },
  {
   "cell_type": "code",
   "execution_count": null,
   "id": "fd2e65e6-eb38-49df-8342-d29ec66d6d42",
   "metadata": {},
   "outputs": [
    {
     "data": {
      "text/plain": [
       "22"
      ]
     },
     "execution_count": 10,
     "metadata": {},
     "output_type": "execute_result"
    }
   ],
   "source": [
    "# Crea una lista vacía para almacenar los nombres de las columnas que ya se han procesado\n",
    "columnas = [str(col) for col in new_df_to_bq.columns]\n",
    "columnas_tupla = [(col, \"STRING\", \"NULLABLE\") for col in columnas]\n",
    "schema = [bigquery.SchemaField(*col_tuple) for col_tuple in columnas_tupla]\n",
    "#for i in :\n",
    "    #columnas[i] =  columnas[i].apply(lambda x: x + '2')\n",
    "len(schema)\n",
    "#bigquery.SchemaField(\"col2\", \"STRING\", mode=\"NULLABLE\"),"
   ]
  },
  {
   "cell_type": "markdown",
   "id": "8fcb086e-b882-4842-b732-81af4e85da42",
   "metadata": {},
   "source": [
    "the next code is to create code"
   ]
  },
  {
   "cell_type": "code",
   "execution_count": 68,
   "id": "3891c767-9f64-4725-b483-31b85c6273dc",
   "metadata": {},
   "outputs": [
    {
     "name": "stdout",
     "output_type": "stream",
     "text": [
      "Created table sss_onsite_unidata_openIA_V4\n"
     ]
    }
   ],
   "source": [
    "# Nombre de la tabla en BigQuery\n",
    "\n",
    "\n",
    "# Crea una instancia de \"bigquery.Client\"\n",
    "client = bigquery.Client()\n",
    "\n",
    "# Crea una instancia de \"bigquery.Table\" con el esquema y la tabla especificados\n",
    "table = bigquery.Table(table_name, schema=schema)\n",
    "\n",
    "# Crea la tabla en BigQuery\n",
    "table = client.create_table(table)  # API request\n",
    "print(f\"Created table {table.table_id}\")\n",
    "#datalake-analytics-339922.UniDataSentiment.sss_offsite_unidata_final\n",
    "\n"
   ]
  },
  {
   "cell_type": "markdown",
   "id": "c4fe13a1-614c-44a0-9133-6cecea934bb6",
   "metadata": {},
   "source": [
    "upload the data  on bigquery  Nota : Use the method \"append\" to joint info without replace"
   ]
  },
  {
   "cell_type": "code",
   "execution_count": 34,
   "id": "49e9c3e1-76f6-48e3-a55a-8e5d330d62d4",
   "metadata": {},
   "outputs": [
    {
     "name": "stderr",
     "output_type": "stream",
     "text": [
      "100%|██████████| 1/1 [00:00<00:00, 6990.51it/s]"
     ]
    },
    {
     "name": "stdout",
     "output_type": "stream",
     "text": [
      "dataframe is : ok\n"
     ]
    },
    {
     "name": "stderr",
     "output_type": "stream",
     "text": [
      "\n"
     ]
    }
   ],
   "source": [
    "# Convierte todas las columnas del DataFrame a tipo \"string\"\n",
    "lastdf =new_df_to_bq.astype(str)\n",
    "lastdf.to_gbq(table_name, if_exists='append')\n",
    "print (\"dataframe is : ok\")\n"
   ]
  }
 ],
 "metadata": {
  "kernelspec": {
   "display_name": "PySpark (Local)",
   "language": "python",
   "name": "local-pyspark"
  },
  "language_info": {
   "codemirror_mode": {
    "name": "ipython",
    "version": 3
   },
   "file_extension": ".py",
   "mimetype": "text/x-python",
   "name": "python",
   "nbconvert_exporter": "python",
   "pygments_lexer": "ipython3",
   "version": "3.7.12"
  }
 },
 "nbformat": 4,
 "nbformat_minor": 5
}
